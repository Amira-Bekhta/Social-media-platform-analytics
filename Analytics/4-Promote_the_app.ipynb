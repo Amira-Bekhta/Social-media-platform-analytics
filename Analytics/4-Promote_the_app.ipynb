{
 "cells": [
  {
   "cell_type": "markdown",
   "metadata": {},
   "source": [
    "# Introduction"
   ]
  },
  {
   "cell_type": "markdown",
   "metadata": {},
   "source": [
    "In this section we will analyze the ```users``` dataset, especially the ```how_did_you_hear_about_us``` column in order to answer this question: <b>What platforms made us receive more users?</b> and understand where to promote the app next time"
   ]
  },
  {
   "cell_type": "markdown",
   "metadata": {},
   "source": [
    "## Process"
   ]
  },
  {
   "cell_type": "markdown",
   "metadata": {},
   "source": [
    "<ul>\n",
    "<li>Import the required libraries (Pandas, matplotlib, adn seaborn) and the <code>users</code> dataset</li>\n",
    "<li>Clean the data</li>\n",
    "<li>Visualize top 3 platforms to promote the data</li>\n",
    "</ul>"
   ]
  },
  {
   "cell_type": "markdown",
   "metadata": {},
   "source": [
    "# Import libraries and dataset"
   ]
  },
  {
   "cell_type": "code",
   "execution_count": 1,
   "metadata": {},
   "outputs": [],
   "source": [
    "import pandas as pd\n",
    "import matplotlib.pyplot as plt\n",
    "import seaborn as sns\n",
    "\n",
    "\n",
    "users = pd.read_csv(\"../Data/users.csv\")"
   ]
  },
  {
   "cell_type": "markdown",
   "metadata": {},
   "source": [
    "We can take a look at the DataFrame now"
   ]
  },
  {
   "cell_type": "code",
   "execution_count": 2,
   "metadata": {},
   "outputs": [
    {
     "data": {
      "text/html": [
       "<div>\n",
       "<style scoped>\n",
       "    .dataframe tbody tr th:only-of-type {\n",
       "        vertical-align: middle;\n",
       "    }\n",
       "\n",
       "    .dataframe tbody tr th {\n",
       "        vertical-align: top;\n",
       "    }\n",
       "\n",
       "    .dataframe thead th {\n",
       "        text-align: right;\n",
       "    }\n",
       "</style>\n",
       "<table border=\"1\" class=\"dataframe\">\n",
       "  <thead>\n",
       "    <tr style=\"text-align: right;\">\n",
       "      <th></th>\n",
       "      <th>username</th>\n",
       "      <th>location</th>\n",
       "      <th>interests</th>\n",
       "      <th>how_did_you_hear_about_us</th>\n",
       "    </tr>\n",
       "  </thead>\n",
       "  <tbody>\n",
       "    <tr>\n",
       "      <th>0</th>\n",
       "      <td>sray</td>\n",
       "      <td>New York</td>\n",
       "      <td>['movies', 'music']</td>\n",
       "      <td>tv ad</td>\n",
       "    </tr>\n",
       "    <tr>\n",
       "      <th>1</th>\n",
       "      <td>margaret96</td>\n",
       "      <td>Los Angeles</td>\n",
       "      <td>['tech', 'movies', 'gaming']</td>\n",
       "      <td>google search</td>\n",
       "    </tr>\n",
       "    <tr>\n",
       "      <th>2</th>\n",
       "      <td>descobar</td>\n",
       "      <td>New York</td>\n",
       "      <td>['movies', 'gaming']</td>\n",
       "      <td>tv ad</td>\n",
       "    </tr>\n",
       "    <tr>\n",
       "      <th>3</th>\n",
       "      <td>oconnorcaroline</td>\n",
       "      <td>Phoenix</td>\n",
       "      <td>['sports']</td>\n",
       "      <td>online ad</td>\n",
       "    </tr>\n",
       "    <tr>\n",
       "      <th>4</th>\n",
       "      <td>katherinebrown</td>\n",
       "      <td>Houston</td>\n",
       "      <td>['gaming']</td>\n",
       "      <td>app store</td>\n",
       "    </tr>\n",
       "  </tbody>\n",
       "</table>\n",
       "</div>"
      ],
      "text/plain": [
       "          username     location                     interests  \\\n",
       "0             sray     New York           ['movies', 'music']   \n",
       "1       margaret96  Los Angeles  ['tech', 'movies', 'gaming']   \n",
       "2         descobar     New York          ['movies', 'gaming']   \n",
       "3  oconnorcaroline      Phoenix                    ['sports']   \n",
       "4   katherinebrown      Houston                    ['gaming']   \n",
       "\n",
       "  how_did_you_hear_about_us  \n",
       "0                     tv ad  \n",
       "1             google search  \n",
       "2                     tv ad  \n",
       "3                 online ad  \n",
       "4                 app store  "
      ]
     },
     "execution_count": 2,
     "metadata": {},
     "output_type": "execute_result"
    }
   ],
   "source": [
    "users.head()"
   ]
  },
  {
   "cell_type": "markdown",
   "metadata": {},
   "source": [
    "# Data cleaning"
   ]
  },
  {
   "cell_type": "markdown",
   "metadata": {},
   "source": [
    "We will start by checking for any null values"
   ]
  },
  {
   "cell_type": "code",
   "execution_count": 3,
   "metadata": {},
   "outputs": [
    {
     "data": {
      "text/plain": [
       "username  location  interests  how_did_you_hear_about_us\n",
       "False     False     False      False                        47\n",
       "                               True                          3\n",
       "Name: count, dtype: int64"
      ]
     },
     "execution_count": 3,
     "metadata": {},
     "output_type": "execute_result"
    }
   ],
   "source": [
    "users.isna().value_counts()"
   ]
  },
  {
   "cell_type": "markdown",
   "metadata": {},
   "source": [
    "We see that there are 3 null values in the ```how_did_you_hear_about_us``` column, since this is the column we will focus on, we will need to drop the rows that contain null values in this column"
   ]
  },
  {
   "cell_type": "code",
   "execution_count": 4,
   "metadata": {},
   "outputs": [],
   "source": [
    "users = users.dropna(subset=\"how_did_you_hear_about_us\").reset_index(drop=True)"
   ]
  },
  {
   "cell_type": "markdown",
   "metadata": {},
   "source": [
    "# Visualize top 5 platfroms to promote the app"
   ]
  },
  {
   "cell_type": "markdown",
   "metadata": {},
   "source": [
    "We will start by setting up our variables"
   ]
  },
  {
   "cell_type": "code",
   "execution_count": 5,
   "metadata": {},
   "outputs": [],
   "source": [
    "platforms_freq = users.how_did_you_hear_about_us.value_counts().head().sort_values(ascending=True) #the top 5 different platforms and their frequencies\n",
    "platforms = platforms_freq.index #the value of each platform\n",
    "frequencies = platforms_freq.iloc[[0, 1, 2, 3, 4]] #how frequent is each platform?"
   ]
  },
  {
   "cell_type": "markdown",
   "metadata": {},
   "source": [
    "And we will simply graph the horizontal bar chart"
   ]
  },
  {
   "cell_type": "code",
   "execution_count": null,
   "metadata": {},
   "outputs": [
    {
     "data": {
      "image/png": "[encoded data removed]",
      "text/plain": [
       "<Figure size 900x600 with 1 Axes>"
      ]
     },
     "metadata": {},
     "output_type": "display_data"
    }
   ],
   "source": [
    "plt.barh(platforms, frequencies, color=sns.color_palette(\"flare\"))\n",
    "plt.title(\"Top 5 platforms to promote the app\")\n",
    "plt.gcf().set_size_inches(9, 6) \n",
    "plt.savefig(\"../Visualizations/Promote_platforms.png\", dpi=100)\n",
    "plt.show()"
   ]
  },
  {
   "cell_type": "markdown",
   "metadata": {},
   "source": [
    "Now we can conclude what platforms have made us receive more users, this way we can understand that we need to promote the app in social media, google, between people, in online ads, and tv ads"
   ]
  },
  {
   "cell_type": "markdown",
   "metadata": {},
   "source": [
    "# Conclusion"
   ]
  },
  {
   "cell_type": "markdown",
   "metadata": {},
   "source": [
    "In this final section, we have explored the platforms that made us receive more users and this way we can determine which platforms to promote our app in"
   ]
  }
 ],
 "metadata": {
  "kernelspec": {
   "display_name": "Social_media_platform",
   "language": "python",
   "name": "python3"
  },
  "language_info": {
   "codemirror_mode": {
    "name": "ipython",
    "version": 3
   },
   "file_extension": ".py",
   "mimetype": "text/x-python",
   "name": "python",
   "nbconvert_exporter": "python",
   "pygments_lexer": "ipython3",
   "version": "3.12.7"
  }
 },
 "nbformat": 4,
 "nbformat_minor": 2
}
