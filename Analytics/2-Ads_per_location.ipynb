{
 "cells": [
  {
   "cell_type": "markdown",
   "metadata": {},
   "source": [
    "# Introduction"
   ]
  },
  {
   "cell_type": "markdown",
   "metadata": {},
   "source": [
    "In this section, we will examine both the <a href=\"../Data/users.csv\">users.csv</a> and <a href=\"..//Data/ads.csv\">ads.csv</a> datasets and generate a chart to understand what intersts are common in a certain location, based on this information, we will retrieve the ads we need to display in each location"
   ]
  },
  {
   "cell_type": "markdown",
   "metadata": {},
   "source": [
    "## Process"
   ]
  },
  {
   "cell_type": "markdown",
   "metadata": {},
   "source": [
    "Here are the steps we need to perform to reach our goal:\n",
    "\n",
    "<ul>\n",
    "<li>Import the required libraries (Pandas, ast, matplotlib, and Seaborn)</li>\n",
    "<li>Prepare the <code>users</code> and <code>ads</code> DataFrames</li>\n",
    "<li>Clean the DataFrames</li>\n",
    "<li>Generate a chart including top categories in a certain location</li>\n",
    "<li>Output the titles of the ads to display in a certain location</li>\n",
    "</ul>"
   ]
  },
  {
   "cell_type": "markdown",
   "metadata": {},
   "source": [
    "# Importing and Initializing DataFrames"
   ]
  },
  {
   "cell_type": "code",
   "execution_count": 1,
   "metadata": {},
   "outputs": [],
   "source": [
    "import ast\n",
    "import pandas as pd\n",
    "import matplotlib.pyplot as plt\n",
    "import seaborn as sns\n",
    "\n",
    "\n",
    "users = pd.read_csv(\"../Data/users.csv\")\n",
    "ads = pd.read_csv(\"../Data/ads.csv\")"
   ]
  },
  {
   "cell_type": "markdown",
   "metadata": {},
   "source": [
    "We will now take a look at each DataFrame"
   ]
  },
  {
   "cell_type": "code",
   "execution_count": 2,
   "metadata": {},
   "outputs": [
    {
     "data": {
      "text/html": [
       "<div>\n",
       "<style scoped>\n",
       "    .dataframe tbody tr th:only-of-type {\n",
       "        vertical-align: middle;\n",
       "    }\n",
       "\n",
       "    .dataframe tbody tr th {\n",
       "        vertical-align: top;\n",
       "    }\n",
       "\n",
       "    .dataframe thead th {\n",
       "        text-align: right;\n",
       "    }\n",
       "</style>\n",
       "<table border=\"1\" class=\"dataframe\">\n",
       "  <thead>\n",
       "    <tr style=\"text-align: right;\">\n",
       "      <th></th>\n",
       "      <th>username</th>\n",
       "      <th>location</th>\n",
       "      <th>interests</th>\n",
       "      <th>how_did_you_hear_about_us</th>\n",
       "    </tr>\n",
       "  </thead>\n",
       "  <tbody>\n",
       "    <tr>\n",
       "      <th>0</th>\n",
       "      <td>sray</td>\n",
       "      <td>New York</td>\n",
       "      <td>['movies', 'music']</td>\n",
       "      <td>tv ad</td>\n",
       "    </tr>\n",
       "    <tr>\n",
       "      <th>1</th>\n",
       "      <td>margaret96</td>\n",
       "      <td>Los Angeles</td>\n",
       "      <td>['tech', 'movies', 'gaming']</td>\n",
       "      <td>google search</td>\n",
       "    </tr>\n",
       "    <tr>\n",
       "      <th>2</th>\n",
       "      <td>descobar</td>\n",
       "      <td>New York</td>\n",
       "      <td>['movies', 'gaming']</td>\n",
       "      <td>tv ad</td>\n",
       "    </tr>\n",
       "    <tr>\n",
       "      <th>3</th>\n",
       "      <td>oconnorcaroline</td>\n",
       "      <td>Phoenix</td>\n",
       "      <td>['sports']</td>\n",
       "      <td>online ad</td>\n",
       "    </tr>\n",
       "    <tr>\n",
       "      <th>4</th>\n",
       "      <td>katherinebrown</td>\n",
       "      <td>Houston</td>\n",
       "      <td>['gaming']</td>\n",
       "      <td>app store</td>\n",
       "    </tr>\n",
       "  </tbody>\n",
       "</table>\n",
       "</div>"
      ],
      "text/plain": [
       "          username     location                     interests  \\\n",
       "0             sray     New York           ['movies', 'music']   \n",
       "1       margaret96  Los Angeles  ['tech', 'movies', 'gaming']   \n",
       "2         descobar     New York          ['movies', 'gaming']   \n",
       "3  oconnorcaroline      Phoenix                    ['sports']   \n",
       "4   katherinebrown      Houston                    ['gaming']   \n",
       "\n",
       "  how_did_you_hear_about_us  \n",
       "0                     tv ad  \n",
       "1             google search  \n",
       "2                     tv ad  \n",
       "3                 online ad  \n",
       "4                 app store  "
      ]
     },
     "execution_count": 2,
     "metadata": {},
     "output_type": "execute_result"
    }
   ],
   "source": [
    "users.head()"
   ]
  },
  {
   "cell_type": "code",
   "execution_count": 3,
   "metadata": {},
   "outputs": [
    {
     "data": {
      "text/html": [
       "<div>\n",
       "<style scoped>\n",
       "    .dataframe tbody tr th:only-of-type {\n",
       "        vertical-align: middle;\n",
       "    }\n",
       "\n",
       "    .dataframe tbody tr th {\n",
       "        vertical-align: top;\n",
       "    }\n",
       "\n",
       "    .dataframe thead th {\n",
       "        text-align: right;\n",
       "    }\n",
       "</style>\n",
       "<table border=\"1\" class=\"dataframe\">\n",
       "  <thead>\n",
       "    <tr style=\"text-align: right;\">\n",
       "      <th></th>\n",
       "      <th>ad_title</th>\n",
       "      <th>ad_category</th>\n",
       "    </tr>\n",
       "  </thead>\n",
       "  <tbody>\n",
       "    <tr>\n",
       "      <th>0</th>\n",
       "      <td>orchestrate ubiquitous markets</td>\n",
       "      <td>movies</td>\n",
       "    </tr>\n",
       "    <tr>\n",
       "      <th>1</th>\n",
       "      <td>extend transparent action-items</td>\n",
       "      <td>tech</td>\n",
       "    </tr>\n",
       "    <tr>\n",
       "      <th>2</th>\n",
       "      <td>synergize dot-com metrics</td>\n",
       "      <td>movies</td>\n",
       "    </tr>\n",
       "    <tr>\n",
       "      <th>3</th>\n",
       "      <td>evolve seamless networks</td>\n",
       "      <td>sports</td>\n",
       "    </tr>\n",
       "    <tr>\n",
       "      <th>4</th>\n",
       "      <td>synergize 24/365 networks</td>\n",
       "      <td>sports</td>\n",
       "    </tr>\n",
       "  </tbody>\n",
       "</table>\n",
       "</div>"
      ],
      "text/plain": [
       "                          ad_title ad_category\n",
       "0   orchestrate ubiquitous markets      movies\n",
       "1  extend transparent action-items        tech\n",
       "2        synergize dot-com metrics      movies\n",
       "3         evolve seamless networks      sports\n",
       "4        synergize 24/365 networks      sports"
      ]
     },
     "execution_count": 3,
     "metadata": {},
     "output_type": "execute_result"
    }
   ],
   "source": [
    "ads.head()"
   ]
  },
  {
   "cell_type": "markdown",
   "metadata": {},
   "source": [
    "# Data cleaning"
   ]
  },
  {
   "cell_type": "markdown",
   "metadata": {},
   "source": [
    "Before cleaning the data, we will need to check if there are any null values"
   ]
  },
  {
   "cell_type": "code",
   "execution_count": 4,
   "metadata": {},
   "outputs": [
    {
     "data": {
      "text/plain": [
       "username  location  interests  how_did_you_hear_about_us\n",
       "False     False     False      False                        47\n",
       "                               True                          3\n",
       "Name: count, dtype: int64"
      ]
     },
     "execution_count": 4,
     "metadata": {},
     "output_type": "execute_result"
    }
   ],
   "source": [
    "users.isna().value_counts()"
   ]
  },
  {
   "cell_type": "code",
   "execution_count": 5,
   "metadata": {},
   "outputs": [
    {
     "data": {
      "text/plain": [
       "ad_title  ad_category\n",
       "False     False          17\n",
       "          True            3\n",
       "Name: count, dtype: int64"
      ]
     },
     "execution_count": 5,
     "metadata": {},
     "output_type": "execute_result"
    }
   ],
   "source": [
    "ads.isna().value_counts()"
   ]
  },
  {
   "cell_type": "markdown",
   "metadata": {},
   "source": [
    "In the ```users``` DataFrame, there are only 3 null values in thr ```how_did_you_hear_about_us``` column, which is a column that we will not focus on in this section, however, we see that the ```ad_category``` column in the ```ads``` DataFrame contains 3 null values, we will fix this by dropping them, we will need to make sure that we drop only the rows that contain null values in the ```ad_category``` column only"
   ]
  },
  {
   "cell_type": "code",
   "execution_count": 6,
   "metadata": {},
   "outputs": [],
   "source": [
    "ads = ads.dropna(subset='ad_category')\n",
    "ads = ads.reset_index(drop=True)"
   ]
  },
  {
   "cell_type": "markdown",
   "metadata": {},
   "source": [
    "As we have seen in the <a href=\"1-Feed.ipynb\">previous section</a>, the ```interests``` column in the ```users``` DataFrame treats the lists of interests as strings, and we will need to covert them into python lists using ```ast.literal_eval()```"
   ]
  },
  {
   "cell_type": "code",
   "execution_count": 7,
   "metadata": {},
   "outputs": [],
   "source": [
    "users['interests'] = users['interests'].apply(lambda x: ast.literal_eval(x))"
   ]
  },
  {
   "cell_type": "markdown",
   "metadata": {},
   "source": [
    "Now we can confirm that the ```interests``` column's values are treated as python lists"
   ]
  },
  {
   "cell_type": "code",
   "execution_count": 8,
   "metadata": {},
   "outputs": [
    {
     "data": {
      "text/html": [
       "<div>\n",
       "<style scoped>\n",
       "    .dataframe tbody tr th:only-of-type {\n",
       "        vertical-align: middle;\n",
       "    }\n",
       "\n",
       "    .dataframe tbody tr th {\n",
       "        vertical-align: top;\n",
       "    }\n",
       "\n",
       "    .dataframe thead th {\n",
       "        text-align: right;\n",
       "    }\n",
       "</style>\n",
       "<table border=\"1\" class=\"dataframe\">\n",
       "  <thead>\n",
       "    <tr style=\"text-align: right;\">\n",
       "      <th></th>\n",
       "      <th>username</th>\n",
       "      <th>location</th>\n",
       "      <th>interests</th>\n",
       "      <th>how_did_you_hear_about_us</th>\n",
       "    </tr>\n",
       "  </thead>\n",
       "  <tbody>\n",
       "    <tr>\n",
       "      <th>5</th>\n",
       "      <td>markgonzalez</td>\n",
       "      <td>New York</td>\n",
       "      <td>[movies]</td>\n",
       "      <td>word of mouth</td>\n",
       "    </tr>\n",
       "  </tbody>\n",
       "</table>\n",
       "</div>"
      ],
      "text/plain": [
       "       username  location interests how_did_you_hear_about_us\n",
       "5  markgonzalez  New York  [movies]             word of mouth"
      ]
     },
     "execution_count": 8,
     "metadata": {},
     "output_type": "execute_result"
    }
   ],
   "source": [
    "users.sample()"
   ]
  },
  {
   "cell_type": "markdown",
   "metadata": {},
   "source": [
    "# Find the top interests in a certain location"
   ]
  },
  {
   "cell_type": "markdown",
   "metadata": {},
   "source": [
    "Now, we will need to find what are the top 5 interests in a certain location, we will start by using the ```explode()``` function to get each interest in a special row"
   ]
  },
  {
   "cell_type": "code",
   "execution_count": 9,
   "metadata": {},
   "outputs": [],
   "source": [
    "users_copy = users.copy().explode(column=\"interests\")"
   ]
  },
  {
   "cell_type": "code",
   "execution_count": 10,
   "metadata": {},
   "outputs": [
    {
     "data": {
      "text/html": [
       "<div>\n",
       "<style scoped>\n",
       "    .dataframe tbody tr th:only-of-type {\n",
       "        vertical-align: middle;\n",
       "    }\n",
       "\n",
       "    .dataframe tbody tr th {\n",
       "        vertical-align: top;\n",
       "    }\n",
       "\n",
       "    .dataframe thead th {\n",
       "        text-align: right;\n",
       "    }\n",
       "</style>\n",
       "<table border=\"1\" class=\"dataframe\">\n",
       "  <thead>\n",
       "    <tr style=\"text-align: right;\">\n",
       "      <th></th>\n",
       "      <th>username</th>\n",
       "      <th>location</th>\n",
       "      <th>interests</th>\n",
       "      <th>how_did_you_hear_about_us</th>\n",
       "    </tr>\n",
       "  </thead>\n",
       "  <tbody>\n",
       "    <tr>\n",
       "      <th>0</th>\n",
       "      <td>sray</td>\n",
       "      <td>New York</td>\n",
       "      <td>movies</td>\n",
       "      <td>tv ad</td>\n",
       "    </tr>\n",
       "    <tr>\n",
       "      <th>0</th>\n",
       "      <td>sray</td>\n",
       "      <td>New York</td>\n",
       "      <td>music</td>\n",
       "      <td>tv ad</td>\n",
       "    </tr>\n",
       "    <tr>\n",
       "      <th>1</th>\n",
       "      <td>margaret96</td>\n",
       "      <td>Los Angeles</td>\n",
       "      <td>tech</td>\n",
       "      <td>google search</td>\n",
       "    </tr>\n",
       "    <tr>\n",
       "      <th>1</th>\n",
       "      <td>margaret96</td>\n",
       "      <td>Los Angeles</td>\n",
       "      <td>movies</td>\n",
       "      <td>google search</td>\n",
       "    </tr>\n",
       "    <tr>\n",
       "      <th>1</th>\n",
       "      <td>margaret96</td>\n",
       "      <td>Los Angeles</td>\n",
       "      <td>gaming</td>\n",
       "      <td>google search</td>\n",
       "    </tr>\n",
       "    <tr>\n",
       "      <th>...</th>\n",
       "      <td>...</td>\n",
       "      <td>...</td>\n",
       "      <td>...</td>\n",
       "      <td>...</td>\n",
       "    </tr>\n",
       "    <tr>\n",
       "      <th>47</th>\n",
       "      <td>sullivanmichelle</td>\n",
       "      <td>Phoenix</td>\n",
       "      <td>sports</td>\n",
       "      <td>word of mouth</td>\n",
       "    </tr>\n",
       "    <tr>\n",
       "      <th>48</th>\n",
       "      <td>daviskevin</td>\n",
       "      <td>New York</td>\n",
       "      <td>music</td>\n",
       "      <td>google search</td>\n",
       "    </tr>\n",
       "    <tr>\n",
       "      <th>48</th>\n",
       "      <td>daviskevin</td>\n",
       "      <td>New York</td>\n",
       "      <td>sports</td>\n",
       "      <td>google search</td>\n",
       "    </tr>\n",
       "    <tr>\n",
       "      <th>49</th>\n",
       "      <td>stanleynicole</td>\n",
       "      <td>Chicago</td>\n",
       "      <td>music</td>\n",
       "      <td>social media</td>\n",
       "    </tr>\n",
       "    <tr>\n",
       "      <th>49</th>\n",
       "      <td>stanleynicole</td>\n",
       "      <td>Chicago</td>\n",
       "      <td>movies</td>\n",
       "      <td>social media</td>\n",
       "    </tr>\n",
       "  </tbody>\n",
       "</table>\n",
       "<p>90 rows × 4 columns</p>\n",
       "</div>"
      ],
      "text/plain": [
       "            username     location interests how_did_you_hear_about_us\n",
       "0               sray     New York    movies                     tv ad\n",
       "0               sray     New York     music                     tv ad\n",
       "1         margaret96  Los Angeles      tech             google search\n",
       "1         margaret96  Los Angeles    movies             google search\n",
       "1         margaret96  Los Angeles    gaming             google search\n",
       "..               ...          ...       ...                       ...\n",
       "47  sullivanmichelle      Phoenix    sports             word of mouth\n",
       "48        daviskevin     New York     music             google search\n",
       "48        daviskevin     New York    sports             google search\n",
       "49     stanleynicole      Chicago     music              social media\n",
       "49     stanleynicole      Chicago    movies              social media\n",
       "\n",
       "[90 rows x 4 columns]"
      ]
     },
     "execution_count": 10,
     "metadata": {},
     "output_type": "execute_result"
    }
   ],
   "source": [
    "users_copy"
   ]
  },
  {
   "cell_type": "markdown",
   "metadata": {},
   "source": [
    "And find what are the top interests in ```Chicago``` "
   ]
  },
  {
   "cell_type": "code",
   "execution_count": 11,
   "metadata": {},
   "outputs": [
    {
     "data": {
      "text/plain": [
       "interests\n",
       "tech       3\n",
       "gaming     3\n",
       "music      3\n",
       "sports     2\n",
       "fashion    2\n",
       "Name: count, dtype: int64"
      ]
     },
     "execution_count": 11,
     "metadata": {},
     "output_type": "execute_result"
    }
   ],
   "source": [
    "chicago = users_copy[users_copy[\"location\"] == \"Chicago\"].iloc[:, 0:3] #the chicago DataFrame contains rows that only have the location value as chicago, from column 0 to 2\n",
    "chicago_top = chicago.interests.value_counts().head() #Find the count of each interest and take the first 5 interests\n",
    "chicago_top"
   ]
  },
  {
   "cell_type": "markdown",
   "metadata": {},
   "source": [
    "# Function to find top interests in a certain location"
   ]
  },
  {
   "cell_type": "markdown",
   "metadata": {},
   "source": [
    "After what we have done, we can conclude and make a function that returns the top 5 interests in any location"
   ]
  },
  {
   "cell_type": "code",
   "execution_count": 12,
   "metadata": {},
   "outputs": [],
   "source": [
    "def top_interests(location):\n",
    "    copy = users.copy().explode(column=\"interests\")\n",
    "    loc = copy[copy[\"location\"] == location].iloc[:, 0:3] #A DataFrame that contains rows that only have the location value as the given location, from column 0 to 2\n",
    "    return loc.interests.value_counts().sort_values(ascending = False).head() #Find the count of each interest and take the first 5 interests"
   ]
  },
  {
   "cell_type": "markdown",
   "metadata": {},
   "source": [
    "We can try the function with a different location"
   ]
  },
  {
   "cell_type": "code",
   "execution_count": 13,
   "metadata": {},
   "outputs": [
    {
     "data": {
      "text/plain": [
       "interests\n",
       "movies     8\n",
       "sports     4\n",
       "music      3\n",
       "gaming     2\n",
       "fashion    2\n",
       "Name: count, dtype: int64"
      ]
     },
     "execution_count": 13,
     "metadata": {},
     "output_type": "execute_result"
    }
   ],
   "source": [
    "top_interests(\"New York\")"
   ]
  },
  {
   "cell_type": "markdown",
   "metadata": {},
   "source": [
    "# Top interests in New York pie chart"
   ]
  },
  {
   "cell_type": "markdown",
   "metadata": {},
   "source": [
    "We will use the previous function in order to generate a pie chart for top interets in New York"
   ]
  },
  {
   "cell_type": "code",
   "execution_count": 25,
   "metadata": {},
   "outputs": [
    {
     "data": {
      "image/png": "[encoded data removed]",
      "text/plain": [
       "<Figure size 640x480 with 1 Axes>"
      ]
     },
     "metadata": {},
     "output_type": "display_data"
    }
   ],
   "source": [
    "top = top_interests(\"New York\")\n",
    "interest_names = top.index\n",
    "values = [0, 1, 2, 3, 4]\n",
    "plt.pie(top.iloc[values], labels=interest_names, autopct='%1.1f%%', colors=sns.color_palette(\"Set2\"))\n",
    "plt.title(\"Top 5 interests in New York\")\n",
    "plt.savefig('../Visualizations/New_York_interests.png')\n",
    "plt.show()"
   ]
  },
  {
   "cell_type": "markdown",
   "metadata": {},
   "source": [
    "We can also create a function to generate a pie chart for any location"
   ]
  },
  {
   "cell_type": "code",
   "execution_count": 15,
   "metadata": {},
   "outputs": [],
   "source": [
    "def generate_pie(location):\n",
    "    plt.pie(top_interests(location).iloc[[0, 1, 2, 3, 4]], labels=top_interests(location).index, autopct='%1.1f%%', colors=sns.color_palette(\"Set2\"))\n",
    "    plt.title(\"Top 5 interests in \" + location)\n",
    "    plt.show()"
   ]
  },
  {
   "cell_type": "markdown",
   "metadata": {},
   "source": [
    "# Try it yourself"
   ]
  },
  {
   "cell_type": "markdown",
   "metadata": {},
   "source": [
    "You can try the ```generate_pie()``` function in the cell below by defining your favoutite location"
   ]
  },
  {
   "cell_type": "code",
   "execution_count": 16,
   "metadata": {},
   "outputs": [
    {
     "data": {
      "image/png": "[encoded data removed]",
      "text/plain": [
       "<Figure size 640x480 with 1 Axes>"
      ]
     },
     "metadata": {},
     "output_type": "display_data"
    }
   ],
   "source": [
    "generate_pie(\"Phoenix\") #Type a location between brackets (such as Houston, New York, Chicago...)"
   ]
  },
  {
   "cell_type": "markdown",
   "metadata": {},
   "source": [
    "# Output the titles of the ads we need to display in each location"
   ]
  },
  {
   "cell_type": "markdown",
   "metadata": {},
   "source": [
    "We will start by trying this on a specific location (Houston)"
   ]
  },
  {
   "cell_type": "code",
   "execution_count": 17,
   "metadata": {},
   "outputs": [
    {
     "name": "stdout",
     "output_type": "stream",
     "text": [
      "orchestrate ubiquitous markets\n",
      "extend transparent action-items\n",
      "synergize dot-com metrics\n",
      "streamline open-source paradigms\n",
      "maximize back-end eyeballs\n",
      "mesh next-generation infrastructures\n",
      "grow granular technologies\n",
      "engage distributed deliverables\n",
      "innovate B2B ROI\n",
      "optimize 24/7 vortals\n",
      "disintermediate enterprise web-readiness\n",
      "matrix B2B architectures\n"
     ]
    }
   ],
   "source": [
    "houston_interest = top_interests(\"Houston\").index #find the names of interests\n",
    "\n",
    "for index in range(ads.shape[0]): \n",
    "    if ads.loc[index][\"ad_category\"] in houston_interest:\n",
    "        print(ads.loc[index].ad_title) #print the title of the ad in the ads DataFrame and whose category is in the interest list"
   ]
  },
  {
   "cell_type": "markdown",
   "metadata": {},
   "source": [
    "As we can see, the output contains the titles of the ads whose categories are among the top 5 categories in Houston, we can conclude the following function then:"
   ]
  },
  {
   "cell_type": "code",
   "execution_count": 18,
   "metadata": {},
   "outputs": [],
   "source": [
    "def display_ad_titles(location):\n",
    "    location_interests = top_interests(location).index\n",
    "\n",
    "    for index in range(ads.shape[0]):\n",
    "        if ads.loc[index][\"ad_category\"] in location_interests:\n",
    "             print(ads.loc[index].ad_title)"
   ]
  },
  {
   "cell_type": "markdown",
   "metadata": {},
   "source": [
    "# Try it yourself 2"
   ]
  },
  {
   "cell_type": "markdown",
   "metadata": {},
   "source": [
    "You can change the location between brackets to find the titles of the ads to display in a certain location"
   ]
  },
  {
   "cell_type": "code",
   "execution_count": 19,
   "metadata": {},
   "outputs": [
    {
     "name": "stdout",
     "output_type": "stream",
     "text": [
      "orchestrate ubiquitous markets\n",
      "synergize dot-com metrics\n",
      "evolve seamless networks\n",
      "synergize 24/365 networks\n",
      "seize world-class convergence\n",
      "streamline open-source paradigms\n",
      "maximize back-end eyeballs\n",
      "mesh next-generation infrastructures\n",
      "grow value-added paradigms\n",
      "engage distributed deliverables\n",
      "innovate B2B ROI\n",
      "optimize 24/7 vortals\n",
      "mesh clicks-and-mortar supply-chains\n",
      "disintermediate enterprise web-readiness\n",
      "matrix B2B architectures\n"
     ]
    }
   ],
   "source": [
    "display_ad_titles(\"New York\") #add a location name between brackets (e.g. Phoenix, Chicagpe, Los Angelos...)"
   ]
  },
  {
   "cell_type": "markdown",
   "metadata": {},
   "source": [
    "# Conclusion"
   ]
  },
  {
   "cell_type": "markdown",
   "metadata": {},
   "source": [
    "In this section, we were able to asnwer two questions, what are the most common interests in a certain location? and what ads should we display in the location based on the interests? we have answered these questions by plotting a pie chart showing us the top 5 interests in the location, and by dfining a function that takes this information and finds the ad titles that correspond to top interests."
   ]
  },
  {
   "cell_type": "markdown",
   "metadata": {},
   "source": [
    "# Next up"
   ]
  },
  {
   "cell_type": "markdown",
   "metadata": {},
   "source": [
    "In the next section, we will try to investigate on the posting time of each post and conclude what times we should post one to receive a large number of interactions, if you want to check it, please click <a href=\"3-Post_interaction_time.ipynb\">here</a>"
   ]
  }
 ],
 "metadata": {
  "kernelspec": {
   "display_name": "Social_media_platform",
   "language": "python",
   "name": "python3"
  },
  "language_info": {
   "codemirror_mode": {
    "name": "ipython",
    "version": 3
   },
   "file_extension": ".py",
   "mimetype": "text/x-python",
   "name": "python",
   "nbconvert_exporter": "python",
   "pygments_lexer": "ipython3",
   "version": "3.12.7"
  }
 },
 "nbformat": 4,
 "nbformat_minor": 2
}
