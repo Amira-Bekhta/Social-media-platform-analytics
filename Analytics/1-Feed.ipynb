{
 "cells": [
  {
   "cell_type": "markdown",
   "metadata": {},
   "source": [
    "# Introduction"
   ]
  },
  {
   "cell_type": "markdown",
   "metadata": {},
   "source": [
    "In this section, we will use the <a href=\"../Data/users.csv\">users.csv</a> and <a href=\"../Data/posts.csv\">posts.csv</a> datasets while trying to answer the following question:\n",
    "<b>What are the posts we have to include in the feed of each user?</b>"
   ]
  },
  {
   "cell_type": "markdown",
   "metadata": {},
   "source": [
    "## Process"
   ]
  },
  {
   "cell_type": "markdown",
   "metadata": {},
   "source": [
    "This task will involve taking the interests of each user and recommend videos whose category align with one of the user's interests, the steps for this process will be:\n",
    "\n",
    "<ul>\n",
    "<li>Import the required libraries (Pandas and ast) and create the <code>users</code> and <code>posts</code> DataFrames</li>\n",
    "<li>Clean the DataFramees</li>\n",
    "<li>Generate the <code>Suggested_posts</code> DataFrame</li>\n",
    "</ul>"
   ]
  },
  {
   "cell_type": "markdown",
   "metadata": {},
   "source": [
    "# Importing and Initializing DataFrames"
   ]
  },
  {
   "cell_type": "code",
   "execution_count": 1,
   "metadata": {},
   "outputs": [],
   "source": [
    "import ast\n",
    "import pandas as pd\n",
    "\n",
    "\n",
    "users = pd.read_csv(\"../Data/users.csv\")\n",
    "posts = pd.read_csv(\"../Data/posts.csv\")"
   ]
  },
  {
   "cell_type": "markdown",
   "metadata": {},
   "source": [
    "We will also take a quick look at each DataFrame"
   ]
  },
  {
   "cell_type": "code",
   "execution_count": 2,
   "metadata": {},
   "outputs": [
    {
     "data": {
      "text/html": [
       "<div>\n",
       "<style scoped>\n",
       "    .dataframe tbody tr th:only-of-type {\n",
       "        vertical-align: middle;\n",
       "    }\n",
       "\n",
       "    .dataframe tbody tr th {\n",
       "        vertical-align: top;\n",
       "    }\n",
       "\n",
       "    .dataframe thead th {\n",
       "        text-align: right;\n",
       "    }\n",
       "</style>\n",
       "<table border=\"1\" class=\"dataframe\">\n",
       "  <thead>\n",
       "    <tr style=\"text-align: right;\">\n",
       "      <th></th>\n",
       "      <th>username</th>\n",
       "      <th>location</th>\n",
       "      <th>interests</th>\n",
       "      <th>how_did_you_hear_about_us</th>\n",
       "    </tr>\n",
       "  </thead>\n",
       "  <tbody>\n",
       "    <tr>\n",
       "      <th>0</th>\n",
       "      <td>sray</td>\n",
       "      <td>New York</td>\n",
       "      <td>['movies', 'music']</td>\n",
       "      <td>tv ad</td>\n",
       "    </tr>\n",
       "    <tr>\n",
       "      <th>1</th>\n",
       "      <td>margaret96</td>\n",
       "      <td>Los Angeles</td>\n",
       "      <td>['tech', 'movies', 'gaming']</td>\n",
       "      <td>google search</td>\n",
       "    </tr>\n",
       "    <tr>\n",
       "      <th>2</th>\n",
       "      <td>descobar</td>\n",
       "      <td>New York</td>\n",
       "      <td>['movies', 'gaming']</td>\n",
       "      <td>tv ad</td>\n",
       "    </tr>\n",
       "    <tr>\n",
       "      <th>3</th>\n",
       "      <td>oconnorcaroline</td>\n",
       "      <td>Phoenix</td>\n",
       "      <td>['sports']</td>\n",
       "      <td>online ad</td>\n",
       "    </tr>\n",
       "    <tr>\n",
       "      <th>4</th>\n",
       "      <td>katherinebrown</td>\n",
       "      <td>Houston</td>\n",
       "      <td>['gaming']</td>\n",
       "      <td>app store</td>\n",
       "    </tr>\n",
       "  </tbody>\n",
       "</table>\n",
       "</div>"
      ],
      "text/plain": [
       "          username     location                     interests  \\\n",
       "0             sray     New York           ['movies', 'music']   \n",
       "1       margaret96  Los Angeles  ['tech', 'movies', 'gaming']   \n",
       "2         descobar     New York          ['movies', 'gaming']   \n",
       "3  oconnorcaroline      Phoenix                    ['sports']   \n",
       "4   katherinebrown      Houston                    ['gaming']   \n",
       "\n",
       "  how_did_you_hear_about_us  \n",
       "0                     tv ad  \n",
       "1             google search  \n",
       "2                     tv ad  \n",
       "3                 online ad  \n",
       "4                 app store  "
      ]
     },
     "execution_count": 2,
     "metadata": {},
     "output_type": "execute_result"
    }
   ],
   "source": [
    "users.head()"
   ]
  },
  {
   "cell_type": "code",
   "execution_count": 3,
   "metadata": {},
   "outputs": [
    {
     "data": {
      "text/html": [
       "<div>\n",
       "<style scoped>\n",
       "    .dataframe tbody tr th:only-of-type {\n",
       "        vertical-align: middle;\n",
       "    }\n",
       "\n",
       "    .dataframe tbody tr th {\n",
       "        vertical-align: top;\n",
       "    }\n",
       "\n",
       "    .dataframe thead th {\n",
       "        text-align: right;\n",
       "    }\n",
       "</style>\n",
       "<table border=\"1\" class=\"dataframe\">\n",
       "  <thead>\n",
       "    <tr style=\"text-align: right;\">\n",
       "      <th></th>\n",
       "      <th>post_title</th>\n",
       "      <th>category</th>\n",
       "      <th>number_of_likes</th>\n",
       "      <th>number_of_comments</th>\n",
       "      <th>date</th>\n",
       "      <th>time</th>\n",
       "    </tr>\n",
       "  </thead>\n",
       "  <tbody>\n",
       "    <tr>\n",
       "      <th>0</th>\n",
       "      <td>Future-proofed regional frame</td>\n",
       "      <td>NaN</td>\n",
       "      <td>297</td>\n",
       "      <td>1</td>\n",
       "      <td>2024-01-01</td>\n",
       "      <td>00:00:00</td>\n",
       "    </tr>\n",
       "    <tr>\n",
       "      <th>1</th>\n",
       "      <td>Open-architected well-modulated budgetary mana...</td>\n",
       "      <td>sports</td>\n",
       "      <td>257</td>\n",
       "      <td>570</td>\n",
       "      <td>2024-01-01</td>\n",
       "      <td>06:00:00</td>\n",
       "    </tr>\n",
       "    <tr>\n",
       "      <th>2</th>\n",
       "      <td>Centralized next generation toolset</td>\n",
       "      <td>music</td>\n",
       "      <td>251</td>\n",
       "      <td>47</td>\n",
       "      <td>2024-01-01</td>\n",
       "      <td>12:00:00</td>\n",
       "    </tr>\n",
       "    <tr>\n",
       "      <th>3</th>\n",
       "      <td>Fully-configurable homogeneous architecture</td>\n",
       "      <td>gaming</td>\n",
       "      <td>17</td>\n",
       "      <td>98</td>\n",
       "      <td>2024-01-01</td>\n",
       "      <td>18:00:00</td>\n",
       "    </tr>\n",
       "    <tr>\n",
       "      <th>4</th>\n",
       "      <td>Centralized asynchronous application</td>\n",
       "      <td>NaN</td>\n",
       "      <td>62</td>\n",
       "      <td>2</td>\n",
       "      <td>2024-01-02</td>\n",
       "      <td>00:00:00</td>\n",
       "    </tr>\n",
       "  </tbody>\n",
       "</table>\n",
       "</div>"
      ],
      "text/plain": [
       "                                          post_title category  \\\n",
       "0                      Future-proofed regional frame      NaN   \n",
       "1  Open-architected well-modulated budgetary mana...   sports   \n",
       "2                Centralized next generation toolset    music   \n",
       "3        Fully-configurable homogeneous architecture   gaming   \n",
       "4               Centralized asynchronous application      NaN   \n",
       "\n",
       "   number_of_likes  number_of_comments        date      time  \n",
       "0              297                   1  2024-01-01  00:00:00  \n",
       "1              257                 570  2024-01-01  06:00:00  \n",
       "2              251                  47  2024-01-01  12:00:00  \n",
       "3               17                  98  2024-01-01  18:00:00  \n",
       "4               62                   2  2024-01-02  00:00:00  "
      ]
     },
     "execution_count": 3,
     "metadata": {},
     "output_type": "execute_result"
    }
   ],
   "source": [
    "posts.head()"
   ]
  },
  {
   "cell_type": "markdown",
   "metadata": {},
   "source": [
    "# Data cleaning"
   ]
  },
  {
   "cell_type": "markdown",
   "metadata": {},
   "source": [
    "Before cleaning the data, we will need to check if there are any null values"
   ]
  },
  {
   "cell_type": "code",
   "execution_count": 4,
   "metadata": {},
   "outputs": [
    {
     "data": {
      "text/plain": [
       "username  location  interests  how_did_you_hear_about_us\n",
       "False     False     False      False                        47\n",
       "                               True                          3\n",
       "Name: count, dtype: int64"
      ]
     },
     "execution_count": 4,
     "metadata": {},
     "output_type": "execute_result"
    }
   ],
   "source": [
    "users.isna().value_counts()"
   ]
  },
  {
   "cell_type": "code",
   "execution_count": 5,
   "metadata": {},
   "outputs": [
    {
     "data": {
      "text/plain": [
       "post_title  category  number_of_likes  number_of_comments  date   time \n",
       "False       False     False            False               False  False    245\n",
       "            True      False            False               False  False      5\n",
       "Name: count, dtype: int64"
      ]
     },
     "execution_count": 5,
     "metadata": {},
     "output_type": "execute_result"
    }
   ],
   "source": [
    "posts.isna().value_counts()"
   ]
  },
  {
   "cell_type": "markdown",
   "metadata": {},
   "source": [
    "In the ```users``` DataFrame, there are only 3 null values in thr ```how_did_you_hear_about_us``` column, which is a column that we will not focus on in this section, however, we see that the ```category``` column in the ```posts``` DataFrame contains 5 null values, we will fix this by dropping them, we will need to make sure that we drop only the rows that contain null values in the ```category``` column only"
   ]
  },
  {
   "cell_type": "code",
   "execution_count": 6,
   "metadata": {},
   "outputs": [],
   "source": [
    "posts = posts.dropna(subset='category')\n",
    "posts = posts.reset_index(drop=True)"
   ]
  },
  {
   "cell_type": "markdown",
   "metadata": {},
   "source": [
    "Now, let us take a look at a sample of the ```users``` DataFrame"
   ]
  },
  {
   "cell_type": "code",
   "execution_count": 7,
   "metadata": {},
   "outputs": [
    {
     "data": {
      "text/html": [
       "<div>\n",
       "<style scoped>\n",
       "    .dataframe tbody tr th:only-of-type {\n",
       "        vertical-align: middle;\n",
       "    }\n",
       "\n",
       "    .dataframe tbody tr th {\n",
       "        vertical-align: top;\n",
       "    }\n",
       "\n",
       "    .dataframe thead th {\n",
       "        text-align: right;\n",
       "    }\n",
       "</style>\n",
       "<table border=\"1\" class=\"dataframe\">\n",
       "  <thead>\n",
       "    <tr style=\"text-align: right;\">\n",
       "      <th></th>\n",
       "      <th>username</th>\n",
       "      <th>location</th>\n",
       "      <th>interests</th>\n",
       "      <th>how_did_you_hear_about_us</th>\n",
       "    </tr>\n",
       "  </thead>\n",
       "  <tbody>\n",
       "    <tr>\n",
       "      <th>49</th>\n",
       "      <td>stanleynicole</td>\n",
       "      <td>Chicago</td>\n",
       "      <td>['music', 'movies']</td>\n",
       "      <td>social media</td>\n",
       "    </tr>\n",
       "  </tbody>\n",
       "</table>\n",
       "</div>"
      ],
      "text/plain": [
       "         username location            interests how_did_you_hear_about_us\n",
       "49  stanleynicole  Chicago  ['music', 'movies']              social media"
      ]
     },
     "execution_count": 7,
     "metadata": {},
     "output_type": "execute_result"
    }
   ],
   "source": [
    "users.sample()"
   ]
  },
  {
   "cell_type": "markdown",
   "metadata": {},
   "source": [
    "We notice that the ```interests``` column is treated as a string instead of a list, and since we will need to work in each element of it later, we will need to convert it to a list first using ```ast.literal_eval()``` function which will convert a list-like string to a python list"
   ]
  },
  {
   "cell_type": "code",
   "execution_count": 8,
   "metadata": {},
   "outputs": [],
   "source": [
    "users['interests'] = users['interests'].apply(lambda x: ast.literal_eval(x))"
   ]
  },
  {
   "cell_type": "markdown",
   "metadata": {},
   "source": [
    "Now after seeing another sample we find that the ```interests``` column now contains python lists instead"
   ]
  },
  {
   "cell_type": "code",
   "execution_count": 9,
   "metadata": {},
   "outputs": [
    {
     "data": {
      "text/html": [
       "<div>\n",
       "<style scoped>\n",
       "    .dataframe tbody tr th:only-of-type {\n",
       "        vertical-align: middle;\n",
       "    }\n",
       "\n",
       "    .dataframe tbody tr th {\n",
       "        vertical-align: top;\n",
       "    }\n",
       "\n",
       "    .dataframe thead th {\n",
       "        text-align: right;\n",
       "    }\n",
       "</style>\n",
       "<table border=\"1\" class=\"dataframe\">\n",
       "  <thead>\n",
       "    <tr style=\"text-align: right;\">\n",
       "      <th></th>\n",
       "      <th>username</th>\n",
       "      <th>location</th>\n",
       "      <th>interests</th>\n",
       "      <th>how_did_you_hear_about_us</th>\n",
       "    </tr>\n",
       "  </thead>\n",
       "  <tbody>\n",
       "    <tr>\n",
       "      <th>22</th>\n",
       "      <td>bmejia</td>\n",
       "      <td>Houston</td>\n",
       "      <td>[tech, movies, fashion]</td>\n",
       "      <td>online ad</td>\n",
       "    </tr>\n",
       "  </tbody>\n",
       "</table>\n",
       "</div>"
      ],
      "text/plain": [
       "   username location                interests how_did_you_hear_about_us\n",
       "22   bmejia  Houston  [tech, movies, fashion]                 online ad"
      ]
     },
     "execution_count": 9,
     "metadata": {},
     "output_type": "execute_result"
    }
   ],
   "source": [
    "users.sample()"
   ]
  },
  {
   "cell_type": "markdown",
   "metadata": {},
   "source": [
    "# Generate the ```suggested_posts``` DataFrame"
   ]
  },
  {
   "cell_type": "markdown",
   "metadata": {},
   "source": [
    "We start by defining the ```suggest()``` function "
   ]
  },
  {
   "cell_type": "code",
   "execution_count": 10,
   "metadata": {},
   "outputs": [],
   "source": [
    "def suggest(index, users_df, posts_df): #takes in the index of a users, the users DataFrame, and the posts DataFrame\n",
    "    result = []\n",
    "    interests = users_df.loc[index, \"interests\"]  \n",
    "    for j in range(len(posts_df)):#j starts from index 0 until the last element in the posts DataFrame\n",
    "        if posts_df.loc[j, \"category\"] in interests: \n",
    "            result.append(posts_df.loc[j, \"post_title\"]) #append the title of the post whose category exists in the user's interest list\n",
    "    return result\n"
   ]
  },
  {
   "cell_type": "markdown",
   "metadata": {},
   "source": [
    "Now that we are done, we will create a copy of the original ```users``` DataFrame and generate the ```suggested_posts``` DataFrame"
   ]
  },
  {
   "cell_type": "code",
   "execution_count": 11,
   "metadata": {},
   "outputs": [],
   "source": [
    "users_and_posts = users.copy() #take a copy of the oriignal DataFrame\n",
    "users_and_posts[\"suggested_posts\"] = [[] for _ in range(users_and_posts.shape[0])] #Initialize a new column named suggested_posts\n",
    "for i in range(users_and_posts.shape[0]):\n",
    "    users_and_posts.at[i, \"suggested_posts\"] = suggest(i, users, posts) #The colum value will be equal to the list output by the suggest() function for each index\n",
    "    \n",
    "users_and_posts = users_and_posts.loc[:, [\"username\", \"suggested_posts\"]] #make the new DataFrame contain the username and te suggested_posts columns only"
   ]
  },
  {
   "cell_type": "markdown",
   "metadata": {},
   "source": [
    "# Final result"
   ]
  },
  {
   "cell_type": "markdown",
   "metadata": {},
   "source": [
    "We can simply take a look at our new DataFrame"
   ]
  },
  {
   "cell_type": "code",
   "execution_count": 12,
   "metadata": {},
   "outputs": [
    {
     "data": {
      "text/html": [
       "<div>\n",
       "<style scoped>\n",
       "    .dataframe tbody tr th:only-of-type {\n",
       "        vertical-align: middle;\n",
       "    }\n",
       "\n",
       "    .dataframe tbody tr th {\n",
       "        vertical-align: top;\n",
       "    }\n",
       "\n",
       "    .dataframe thead th {\n",
       "        text-align: right;\n",
       "    }\n",
       "</style>\n",
       "<table border=\"1\" class=\"dataframe\">\n",
       "  <thead>\n",
       "    <tr style=\"text-align: right;\">\n",
       "      <th></th>\n",
       "      <th>username</th>\n",
       "      <th>suggested_posts</th>\n",
       "    </tr>\n",
       "  </thead>\n",
       "  <tbody>\n",
       "    <tr>\n",
       "      <th>0</th>\n",
       "      <td>sray</td>\n",
       "      <td>[Centralized next generation toolset, Grass-ro...</td>\n",
       "    </tr>\n",
       "    <tr>\n",
       "      <th>1</th>\n",
       "      <td>margaret96</td>\n",
       "      <td>[Fully-configurable homogeneous architecture, ...</td>\n",
       "    </tr>\n",
       "    <tr>\n",
       "      <th>2</th>\n",
       "      <td>descobar</td>\n",
       "      <td>[Fully-configurable homogeneous architecture, ...</td>\n",
       "    </tr>\n",
       "    <tr>\n",
       "      <th>3</th>\n",
       "      <td>oconnorcaroline</td>\n",
       "      <td>[Open-architected well-modulated budgetary man...</td>\n",
       "    </tr>\n",
       "    <tr>\n",
       "      <th>4</th>\n",
       "      <td>katherinebrown</td>\n",
       "      <td>[Fully-configurable homogeneous architecture, ...</td>\n",
       "    </tr>\n",
       "  </tbody>\n",
       "</table>\n",
       "</div>"
      ],
      "text/plain": [
       "          username                                    suggested_posts\n",
       "0             sray  [Centralized next generation toolset, Grass-ro...\n",
       "1       margaret96  [Fully-configurable homogeneous architecture, ...\n",
       "2         descobar  [Fully-configurable homogeneous architecture, ...\n",
       "3  oconnorcaroline  [Open-architected well-modulated budgetary man...\n",
       "4   katherinebrown  [Fully-configurable homogeneous architecture, ..."
      ]
     },
     "execution_count": 12,
     "metadata": {},
     "output_type": "execute_result"
    }
   ],
   "source": [
    "users_and_posts.head()"
   ]
  },
  {
   "cell_type": "markdown",
   "metadata": {},
   "source": [
    "# Try it yourself"
   ]
  },
  {
   "cell_type": "markdown",
   "metadata": {},
   "source": [
    "Run the below cell to (Press ```ctrtl``` + ```Enter```) to be able to enter in a username and find all the suggested_posts (please use a username that already exists in the DataFrame such as <b>descobar</b>)"
   ]
  },
  {
   "cell_type": "markdown",
   "metadata": {},
   "source": [
    "<h3><b>Please uncomment the cell by removing the #'s before running it</b></h3>"
   ]
  },
  {
   "cell_type": "code",
   "execution_count": 13,
   "metadata": {},
   "outputs": [],
   "source": [
    "#username = input(\"enter name: \")\n",
    "#users_and_posts[users_and_posts.username == username].suggested_posts.tolist()"
   ]
  },
  {
   "cell_type": "markdown",
   "metadata": {},
   "source": [
    "# Conclusion"
   ]
  },
  {
   "cell_type": "markdown",
   "metadata": {},
   "source": [
    "In this section, we were able to retrieve the posts we need to suggests to users based on each user's interest, we have explored how we can clean and prepare data and how we can create a python function that find matches between 2 DataFrames"
   ]
  },
  {
   "cell_type": "markdown",
   "metadata": {},
   "source": [
    "# Next up"
   ]
  },
  {
   "cell_type": "markdown",
   "metadata": {},
   "source": [
    "In the next section, we will try to determine what ads to display in each location based on the ad category and how common it is in each location, if you want to check it, please click <a href=\"2-Ads_per_location.ipynb\">here</a>"
   ]
  }
 ],
 "metadata": {
  "kernelspec": {
   "display_name": "Social_media_platform",
   "language": "python",
   "name": "python3"
  },
  "language_info": {
   "codemirror_mode": {
    "name": "ipython",
    "version": 3
   },
   "file_extension": ".py",
   "mimetype": "text/x-python",
   "name": "python",
   "nbconvert_exporter": "python",
   "pygments_lexer": "ipython3",
   "version": "3.12.7"
  }
 },
 "nbformat": 4,
 "nbformat_minor": 2
}
